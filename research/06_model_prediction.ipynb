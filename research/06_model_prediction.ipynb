{
 "cells": [
  {
   "cell_type": "code",
   "execution_count": 1,
   "metadata": {},
   "outputs": [
    {
     "data": {
      "text/plain": [
       "'c:\\\\Users\\\\hp\\\\Documents\\\\DS\\\\Complete Project\\\\01-Text-Summarizer-Project'"
      ]
     },
     "execution_count": 1,
     "metadata": {},
     "output_type": "execute_result"
    }
   ],
   "source": [
    "import os\n",
    "os.chdir(\"../\")\n",
    "%pwd"
   ]
  },
  {
   "cell_type": "code",
   "execution_count": 2,
   "metadata": {},
   "outputs": [],
   "source": [
    "from dataclasses import dataclass\n",
    "from pathlib import Path\n",
    "\n",
    "\n",
    "@dataclass(frozen=True)\n",
    "class ModelPredictionConfig:\n",
    "    root_dir: Path\n",
    "    model_path: Path\n",
    "    tokenizer_path: Path"
   ]
  },
  {
   "cell_type": "code",
   "execution_count": 3,
   "metadata": {},
   "outputs": [],
   "source": [
    "from TextSummarizer.constants import *\n",
    "from TextSummarizer.utils.common import read_yaml, create_directories"
   ]
  },
  {
   "cell_type": "code",
   "execution_count": 4,
   "metadata": {},
   "outputs": [],
   "source": [
    "class ConfigurationManager:\n",
    "    def __init__(\n",
    "        self,\n",
    "        config_filepath = CONFIG_FILE_PATH,\n",
    "        params_filepath = PARAMS_FILE_PATH):\n",
    "\n",
    "        self.config = read_yaml(config_filepath)\n",
    "        self.params = read_yaml(params_filepath)\n",
    "\n",
    "        create_directories([self.config.artifacts_root])\n",
    "\n",
    "\n",
    "    \n",
    "    def get_model_prediction_config(self) -> ModelPredictionConfig:\n",
    "        config = self.config.model_prediction\n",
    "\n",
    "        create_directories([config.root_dir])\n",
    "\n",
    "        model_prediction_config = ModelPredictionConfig(\n",
    "            root_dir=config.root_dir,\n",
    "            model_path = config.model_path,\n",
    "            tokenizer_path = config.tokenizer_path\n",
    "        )\n",
    "\n",
    "        return model_prediction_config\n"
   ]
  },
  {
   "cell_type": "code",
   "execution_count": 5,
   "metadata": {},
   "outputs": [
    {
     "name": "stderr",
     "output_type": "stream",
     "text": [
      "c:\\Users\\hp\\Documents\\DS\\Complete Project\\01-Text-Summarizer-Project\\env\\lib\\site-packages\\tqdm\\auto.py:21: TqdmWarning: IProgress not found. Please update jupyter and ipywidgets. See https://ipywidgets.readthedocs.io/en/stable/user_install.html\n",
      "  from .autonotebook import tqdm as notebook_tqdm\n"
     ]
    }
   ],
   "source": [
    "from transformers import AutoTokenizer\n",
    "from transformers import pipeline"
   ]
  },
  {
   "cell_type": "code",
   "execution_count": 6,
   "metadata": {},
   "outputs": [],
   "source": [
    "class ModelPrediction:\n",
    "    def __init__(self, config: ModelPredictionConfig):\n",
    "        self.config = config\n",
    "\n",
    "    def predict(self,text):\n",
    "        tokenizer = AutoTokenizer.from_pretrained(self.config.tokenizer_path)\n",
    "        gen_kwargs = {\"length_penalty\": 0.8, \"num_beams\":8, \"max_length\": 128}\n",
    "\n",
    "        pipe = pipeline(\"summarization\", model=self.config.model_path,tokenizer=tokenizer)\n",
    "        print(text)\n",
    "\n",
    "        output = pipe(text, **gen_kwargs)[0][\"summary_text\"]\n",
    "        print(output)\n",
    "\n",
    "        return output"
   ]
  },
  {
   "cell_type": "code",
   "execution_count": 7,
   "metadata": {},
   "outputs": [
    {
     "name": "stdout",
     "output_type": "stream",
     "text": [
      "[2024-04-21 14:48:41,078: INFO: common: Yaml file: config\\config.yaml loaded successfully]\n",
      "[2024-04-21 14:48:41,090: INFO: common: Yaml file: params.yaml loaded successfully]\n",
      "[2024-04-21 14:48:41,095: INFO: common: Created directory at: artifacts]\n",
      "[2024-04-21 14:48:41,100: INFO: common: Created directory at: artifacts/model_prediction]\n",
      "Matt: results should be announced soon\n",
      "    Matt: probably today \n",
      "    Oliver: they posted it\n",
      "    Oliver: <file_other>\n",
      "    Peter: I didn't get into Stanford :(\n",
      "    Matt: let me see\n",
      "    Matt: yup, I did\n",
      "    Oliver: me too\n",
      "    Oliver: barely\n",
      "    Peter: I'm happy for you guys\n",
      "    Matt: chin up! there are many other options\n",
      "    Oliver: exactly, don't give up\n",
      "    Peter: thanks guys, that means a lot\n",
      "    Peter: send your documents asap\n",
      "    Peter: otherwise you'll stuck in the queue\n",
      "    Matt: thanks for a heads-up\n",
      "    Oliver: yea, we owe you one\n",
      "    Peter: I have to look for other university\n",
      "    Peter: see ya\n",
      "    Matt: bye\n",
      "Peter didn't get into Stanford. He has to look for other university. Matt and Oliver will send Peter their documents asap. Peter has to look for other university.\n"
     ]
    }
   ],
   "source": [
    "try:\n",
    "    config = ConfigurationManager()\n",
    "    model_prediction_config = config.get_model_prediction_config()\n",
    "    model_prediction_config = ModelPrediction(config=model_prediction_config)\n",
    "    model_prediction_config.predict(\n",
    "    '''Matt: results should be announced soon\n",
    "    Matt: probably today \n",
    "    Oliver: they posted it\n",
    "    Oliver: <file_other>\n",
    "    Peter: I didn't get into Stanford :(\n",
    "    Matt: let me see\n",
    "    Matt: yup, I did\n",
    "    Oliver: me too\n",
    "    Oliver: barely\n",
    "    Peter: I'm happy for you guys\n",
    "    Matt: chin up! there are many other options\n",
    "    Oliver: exactly, don't give up\n",
    "    Peter: thanks guys, that means a lot\n",
    "    Peter: send your documents asap\n",
    "    Peter: otherwise you'll stuck in the queue\n",
    "    Matt: thanks for a heads-up\n",
    "    Oliver: yea, we owe you one\n",
    "    Peter: I have to look for other university\n",
    "    Peter: see ya\n",
    "    Matt: bye'''\n",
    "     )\n",
    "except Exception as e:\n",
    "    raise e"
   ]
  },
  {
   "cell_type": "code",
   "execution_count": null,
   "metadata": {},
   "outputs": [],
   "source": []
  }
 ],
 "metadata": {
  "kernelspec": {
   "display_name": "env",
   "language": "python",
   "name": "python3"
  },
  "language_info": {
   "codemirror_mode": {
    "name": "ipython",
    "version": 3
   },
   "file_extension": ".py",
   "mimetype": "text/x-python",
   "name": "python",
   "nbconvert_exporter": "python",
   "pygments_lexer": "ipython3",
   "version": "3.10.11"
  }
 },
 "nbformat": 4,
 "nbformat_minor": 2
}
